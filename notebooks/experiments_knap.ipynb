{
 "cells": [
  {
   "cell_type": "markdown",
   "metadata": {},
   "source": [
    "# Knapsack Experiments\n",
    "Initial experiments on development of a knapsack solution, https://medium.com/koderunners/genetic-algorithm-part-3-knapsack-problem-b59035ddd1d6"
   ]
  },
  {
   "cell_type": "markdown",
   "metadata": {},
   "source": [
    "## Module imports and settings"
   ]
  },
  {
   "cell_type": "code",
   "execution_count": 6,
   "metadata": {},
   "outputs": [],
   "source": [
    "import numpy as np\n",
    "import pandas as pd\n",
    "from random import randint\n",
    "import random\n",
    "import matplotlib.pyplot as plt"
   ]
  },
  {
   "cell_type": "markdown",
   "metadata": {},
   "source": [
    "## Population\n",
    "Initial population is being developed"
   ]
  },
  {
   "cell_type": "code",
   "execution_count": 5,
   "metadata": {},
   "outputs": [
    {
     "name": "stdout",
     "output_type": "stream",
     "text": [
      "The list is as follows:\n",
      "Item No.   Weight   Value\n",
      "1          10         641\n",
      "\n",
      "2          2         515\n",
      "\n",
      "3          2         587\n",
      "\n",
      "4          3         535\n",
      "\n",
      "5          8         297\n",
      "\n",
      "6          3         572\n",
      "\n",
      "7          6         716\n",
      "\n",
      "8          13         459\n",
      "\n",
      "9          2         483\n",
      "\n",
      "10          11         236\n",
      "\n"
     ]
    }
   ],
   "source": [
    "item_number = np.arange(1,11)\n",
    "weight = np.random.randint(1, 15, size = 10)\n",
    "value = np.random.randint(10, 750, size = 10)\n",
    "knapsack_threshold = 35    #Maximum weight that the bag of thief can hold \n",
    "print('The list is as follows:')\n",
    "print('Item No.   Weight   Value')\n",
    "for i in range(item_number.shape[0]):\n",
    "    print('{0}          {1}         {2}\\n'.format(item_number[i], weight[i], value[i]))"
   ]
  },
  {
   "cell_type": "code",
   "execution_count": 14,
   "metadata": {},
   "outputs": [
    {
     "name": "stdout",
     "output_type": "stream",
     "text": [
      "original list: 100, de-duplicated: 100\n"
     ]
    }
   ],
   "source": [
    "# Create deduplicated list\n",
    "utility_weight_pair = [[random.randint(1, 100), random.randint(1, 100)] for _ in range(100)]\n",
    "utility_weight_pair_dd = []\n",
    "for x in utility_weight_pair:\n",
    "    if x not in utility_weight_pair_dd:\n",
    "        utility_weight_pair_dd.append(x)\n",
    "print(\"original list: {}, de-duplicated: {}\".format(len(utility_weight_pair), len(utility_weight_pair_dd)))"
   ]
  }
 ],
 "metadata": {
  "interpreter": {
   "hash": "8788a68038c4dbdc98b4411db31e38df3cee729e8a48e9e0c4bac2941706a812"
  },
  "kernelspec": {
   "display_name": "Python 3.10.2 64-bit ('Applied-AI')",
   "language": "python",
   "name": "python3"
  },
  "language_info": {
   "codemirror_mode": {
    "name": "ipython",
    "version": 3
   },
   "file_extension": ".py",
   "mimetype": "text/x-python",
   "name": "python",
   "nbconvert_exporter": "python",
   "pygments_lexer": "ipython3",
   "version": "3.10.2"
  },
  "orig_nbformat": 4
 },
 "nbformat": 4,
 "nbformat_minor": 2
}
